{
 "cells": [
  {
   "cell_type": "code",
   "execution_count": null,
   "metadata": {},
   "outputs": [],
   "source": [
    "from setup_module import init_setup\n",
    "import numpy as np\n",
    "from classification_module import init_classification, combine_accuracy_graphs,prep_data,remove_irelevant\n",
    "\n"
   ]
  },
  {
   "cell_type": "code",
   "execution_count": null,
   "metadata": {},
   "outputs": [],
   "source": [
    "dataset = init_setup()\n",
    "dataset_prep = prep_data(dataset)"
   ]
  },
  {
   "cell_type": "code",
   "execution_count": 28,
   "metadata": {},
   "outputs": [],
   "source": [
    "\n",
    "easy_mode = 1\n",
    "if easy_mode == 1:\n",
    "    easy_mods = [\n",
    "        \"OOK\",\n",
    "        \"4ASK\",\n",
    "        \"BPSK\",\n",
    "        \"QPSK\",\n",
    "        \"8PSK\",\n",
    "        \"16QAM\",\n",
    "        \"AM-SSB-SC\",\n",
    "        \"AM-DSB-SC\",\n",
    "        \"FM\",\n",
    "        \"GMSK\",\n",
    "        \"OQPSK\",\n",
    "    ]\n",
    "    easy_mask = np.isin(dataset_prep['label'], easy_mods)\n",
    "    labels = dataset_prep['label'][easy_mask]\n",
    "    snr = dataset_prep['snr'][easy_mask]\n",
    "    samples = dataset_prep['samples'][easy_mask]\n",
    "    samples_dx = dataset_prep['dx'][easy_mask]\n",
    "    sample_real = dataset_prep['real'][easy_mask]\n",
    "    sample_imag = dataset_prep['imag'][easy_mask]\n",
    "    # sample_amp = dataset_prep['amplitude'][easy_mask]\n",
    "    # sample_phs = dataset_prep['phase'][easy_mask]\n",
    "    \n",
    "    group1 = ['AM-DSB-SC','AM-SSB-SC','FM','GMSK','OQPSK']\n",
    "    group2 = ['OOK','4ASK','BPSK','QPSK','8PSK','16QAM']\n",
    "    groups = [group1, group2]\n",
    "else:\n",
    "    group1 = [\n",
    "        \"OOK\",\n",
    "        \"AM-SSB-WC\",\n",
    "        \"AM-SSB-SC\",\n",
    "        \"AM-DSB-WC\",\n",
    "        \"AM-DSB-SC\",\n",
    "        \"FM\",\n",
    "        \"GMSK\",\n",
    "        \"OQPSK\",\n",
    "    ]  # Low Order and Analog\n",
    "    group2 = [\n",
    "            \"4ASK\",\n",
    "            \"8ASK\",\n",
    "            \"16QAM\",\n",
    "            \"32QAM\",\n",
    "            \"64QAM\",\n",
    "            \"128QAM\",\n",
    "            \"256QAM\",\n",
    "        ]  # ASK and QAM\n",
    "    group3 = [\n",
    "            \"BPSK\",\n",
    "            \"QPSK\",\n",
    "            \"8PSK\",\n",
    "            \"16PSK\",\n",
    "            \"32PSK\",\n",
    "            \"16APSK\",\n",
    "            \"32APSK\",\n",
    "            \"64APSK\",\n",
    "            \"128APSK\",\n",
    "        ]  # PSK and APSK\n",
    "    groups = [group1, group2, group3]\n",
    "    labels = dataset_prep['label']\n",
    "    snr = dataset_prep['snr']\n",
    "    samples = dataset_prep['samples']\n",
    "    samples_dx = dataset_prep['dx']\n",
    "    sample_real = dataset_prep['real']\n",
    "    sample_imag = dataset_prep['imag']\n",
    "    # sample_amp = dataset_prep['ampllitude']\n",
    "    # sample_phs = dataset_prep['phase']\n",
    "\n",
    "samples_dx = remove_irelevant(samples_dx)\n",
    "samples_with_dx = np.concatenate((samples,samples_dx),1)\n",
    "samples_cum_dx_IQ = np.concatenate((samples,samples_dx,sample_real,sample_imag),1)\n"
   ]
  },
  {
   "cell_type": "code",
   "execution_count": 25,
   "metadata": {},
   "outputs": [
    {
     "name": "stdout",
     "output_type": "stream",
     "text": [
      "we are here\n",
      "classification for cumulants...\n",
      "change\n",
      "Depth of the decision tree: 67\n",
      "Classify per SNR\n",
      "Classify per Label\n",
      "saved plots\n",
      "change\n",
      "Depth of the decision tree: 43\n",
      "Classify per SNR\n",
      "Classify per Label\n",
      "saved plots\n",
      "change\n",
      "Depth of the decision tree: 41\n",
      "Classify per SNR\n",
      "Classify per Label\n",
      "saved plots\n"
     ]
    }
   ],
   "source": [
    "\n",
    "print(\"we are here\")\n",
    "train_tresh = 1\n",
    "print(\"classification for cumulants...\")\n",
    "accuracy_data0 = init_classification(samples, labels, snr, \"cumulants\", groups, easy_mode, train_tresh)\n",
    "accuracy_data1 = init_classification(samples_with_dx, labels, snr, \"cumulants_and_dx\", groups, easy_mode, train_tresh)\n",
    "accuracy_data2 = init_classification(samples_cum_dx_IQ, labels, snr, \"cumulants_with_dx_IQ\", groups, easy_mode, train_tresh)"
   ]
  },
  {
   "cell_type": "code",
   "execution_count": 26,
   "metadata": {},
   "outputs": [],
   "source": [
    "combine_accuracy_graphs(accuracy_data0,accuracy_data1,accuracy_data2)"
   ]
  }
 ],
 "metadata": {
  "kernelspec": {
   "display_name": "venv",
   "language": "python",
   "name": "python3"
  },
  "language_info": {
   "codemirror_mode": {
    "name": "ipython",
    "version": 3
   },
   "file_extension": ".py",
   "mimetype": "text/x-python",
   "name": "python",
   "nbconvert_exporter": "python",
   "pygments_lexer": "ipython3",
   "version": "3.8.10"
  },
  "orig_nbformat": 4
 },
 "nbformat": 4,
 "nbformat_minor": 2
}
